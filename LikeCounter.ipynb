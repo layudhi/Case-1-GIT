{
 "cells": [
  {
   "cell_type": "code",
   "execution_count": 1,
   "id": "05dbe065-990a-4aae-9682-79fdf5b31adb",
   "metadata": {},
   "outputs": [
    {
     "ename": "SyntaxError",
     "evalue": "invalid syntax (1628715150.py, line 13)",
     "output_type": "error",
     "traceback": [
      "\u001b[1;36m  Cell \u001b[1;32mIn[1], line 13\u001b[1;36m\u001b[0m\n\u001b[1;33m    raise:\u001b[0m\n\u001b[1;37m         ^\u001b[0m\n\u001b[1;31mSyntaxError\u001b[0m\u001b[1;31m:\u001b[0m invalid syntax\n"
     ]
    }
   ],
   "source": [
    "blog_posts = [{'Photos': 3, 'Likes': 21, 'Comments': 2}, \n",
    "              {'Likes': 13, 'Comments': 2, 'Shares': 1}, \n",
    "              {'Photos': 5, 'Likes': 33, 'Comments': 8, 'Shares': 3}, \n",
    "              {'Comments': 4, 'Shares': 2}, \n",
    "              {'Photos': 8, 'Comments': 1, 'Shares': 1}, \n",
    "              {'Photos': 3, 'Likes': 19, 'Comments': 3}]\n",
    "\n",
    "try:\n",
    "    for post in blog_posts:\n",
    "        if 'Likes' not in post.keys():\n",
    "            post['Likes'] = 0\n",
    "        total_likes = total_likes + post['Likes']\n",
    "        raise:\n",
    "        print('OKE')\n",
    "except:\n",
    "    pass"
   ]
  },
  {
   "cell_type": "code",
   "execution_count": null,
   "id": "1f43813c-0d1a-404f-a77a-570130ae3f1b",
   "metadata": {},
   "outputs": [],
   "source": []
  }
 ],
 "metadata": {
  "kernelspec": {
   "display_name": "Python 3 (ipykernel)",
   "language": "python",
   "name": "python3"
  },
  "language_info": {
   "codemirror_mode": {
    "name": "ipython",
    "version": 3
   },
   "file_extension": ".py",
   "mimetype": "text/x-python",
   "name": "python",
   "nbconvert_exporter": "python",
   "pygments_lexer": "ipython3",
   "version": "3.9.18"
  }
 },
 "nbformat": 4,
 "nbformat_minor": 5
}
